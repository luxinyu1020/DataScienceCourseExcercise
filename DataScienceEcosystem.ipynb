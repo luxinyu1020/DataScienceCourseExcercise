{
 "cells": [
  {
   "cell_type": "markdown",
   "id": "cf06e66b-3755-41b4-b113-2bf1d05ea4a3",
   "metadata": {},
   "source": [
    "# Data Science Tools and Ecosystem"
   ]
  },
  {
   "cell_type": "markdown",
   "id": "52c49a97-4ead-4b9d-9f4c-1138bcc9aa92",
   "metadata": {},
   "source": [
    "## Author\n",
    "XL"
   ]
  },
  {
   "cell_type": "markdown",
   "id": "71f50788-69e8-419b-8f87-6c0a290c21cb",
   "metadata": {},
   "source": [
    "In this notebook, Data Science Tools and Ecosystem are summarized."
   ]
  },
  {
   "cell_type": "markdown",
   "id": "7fc15155-fe85-42cd-9d66-0590ac5ad3a7",
   "metadata": {},
   "source": [
    "**Objectives**\n",
    "* List popular data science languages\n",
    "* commonly used libraries\n",
    "* data science tools"
   ]
  },
  {
   "cell_type": "markdown",
   "id": "f1c88e9f-bf95-4818-894f-e1e2115a48f5",
   "metadata": {},
   "source": [
    "Some of the popular languages that Data Scientists use are:\n",
    "\n",
    "1. Python\n",
    "2. R\n",
    "3. SQL"
   ]
  },
  {
   "cell_type": "markdown",
   "id": "27e4f349-402e-4212-8a0f-69134d6cd9b7",
   "metadata": {},
   "source": [
    "Some of the commonly used libraries used by Data Scientists include:\n",
    "\n",
    "1. Numpy\n",
    "2. Matplotlib\n",
    "3. Pandas"
   ]
  },
  {
   "cell_type": "markdown",
   "id": "a0c43f17-6a53-48e5-a10e-4a0c1c3b2497",
   "metadata": {},
   "source": [
    "|Data science tools|\n",
    "|------|\n",
    "|Julia|\n",
    "|Jupyter|\n",
    "|Apache Spark|"
   ]
  },
  {
   "cell_type": "markdown",
   "id": "3d3d3f07-b0da-4d3c-b2b6-1998db70153a",
   "metadata": {},
   "source": [
    "### Below are a few examples of evaluating arithmetic expressions in Python"
   ]
  },
  {
   "cell_type": "code",
   "execution_count": 9,
   "id": "251aaa52-f482-45ab-b6d4-bffb8bafb9a6",
   "metadata": {},
   "outputs": [
    {
     "data": {
      "text/plain": [
       "17"
      ]
     },
     "execution_count": 9,
     "metadata": {},
     "output_type": "execute_result"
    }
   ],
   "source": [
    "# This a simple arithmetic expression to mutiply then add integers\n",
    "(3*4)+5"
   ]
  },
  {
   "cell_type": "code",
   "execution_count": 11,
   "id": "c9525b96-77e6-4c9c-83c1-7d3b183d0ffb",
   "metadata": {},
   "outputs": [
    {
     "data": {
      "text/plain": [
       "3.3333333333333335"
      ]
     },
     "execution_count": 11,
     "metadata": {},
     "output_type": "execute_result"
    }
   ],
   "source": [
    "# This will convert 200 minutes to hours by diving by 60\n",
    "200/60"
   ]
  },
  {
   "cell_type": "code",
   "execution_count": null,
   "id": "12cafb7d-645f-471d-bb86-4a208bd422dc",
   "metadata": {},
   "outputs": [],
   "source": []
  }
 ],
 "metadata": {
  "kernelspec": {
   "display_name": "Python [conda env:base] *",
   "language": "python",
   "name": "conda-base-py"
  },
  "language_info": {
   "codemirror_mode": {
    "name": "ipython",
    "version": 3
   },
   "file_extension": ".py",
   "mimetype": "text/x-python",
   "name": "python",
   "nbconvert_exporter": "python",
   "pygments_lexer": "ipython3",
   "version": "3.12.7"
  }
 },
 "nbformat": 4,
 "nbformat_minor": 5
}
